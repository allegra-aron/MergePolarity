{
 "cells": [
  {
   "cell_type": "code",
   "execution_count": 1,
   "metadata": {},
   "outputs": [],
   "source": [
    "import networkx as nx"
   ]
  },
  {
   "cell_type": "code",
   "execution_count": 2,
   "metadata": {},
   "outputs": [],
   "source": [
    "positive_G = nx.read_graphml(\"./data/positive.graphml\")\n",
    "negative_G = nx.read_graphml(\"./data/negative.graphml\")"
   ]
  },
  {
   "cell_type": "code",
   "execution_count": 3,
   "metadata": {},
   "outputs": [],
   "source": [
    "#Renaming\n",
    "positive_nodes_map = positive_G.nodes.data()\n",
    "negative_nodes_map = negative_G.nodes.data()\n",
    "\n",
    "renaming_positive_map = {}\n",
    "for positive_node in positive_nodes_map:\n",
    "    positive_G.nodes[positive_node[0]]['ionization_mode'] = \"positive\"\n",
    "    renaming_positive_map[positive_node[0]] = \"positive-\" + positive_node[0]\n",
    "\n",
    "renaming_negative_map = {}\n",
    "for negative_node in negative_nodes_map:\n",
    "    negative_G.nodes[negative_node[0]]['ionization_mode'] = \"negative\"\n",
    "    renaming_negative_map[negative_node[0]] = \"negative-\" + negative_node[0]\n",
    "    \n",
    "positive_G = nx.relabel_nodes(positive_G, renaming_positive_map)\n",
    "negative_G = nx.relabel_nodes(negative_G, renaming_negative_map)"
   ]
  },
  {
   "cell_type": "code",
   "execution_count": 4,
   "metadata": {},
   "outputs": [],
   "source": [
    "positive_nodes_map = positive_G.nodes.data()\n",
    "negative_nodes_map = negative_G.nodes.data()"
   ]
  },
  {
   "cell_type": "code",
   "execution_count": 13,
   "metadata": {
    "scrolled": true
   },
   "outputs": [],
   "source": [
    "plot_values = []\n",
    "\n",
    "RT_TOLERANCE = 10\n",
    "PPM_ERROR_TOLERANCE = 20\n",
    "\n",
    "new_edges = []\n",
    "for positive_node in positive_nodes_map:\n",
    "    positive_id = positive_node[0]\n",
    "    positive_mz = float(positive_node[1][\"precursor mass\"])\n",
    "    positive_rt = float(positive_node[1][\"RTMean\"])\n",
    "    positive_compound = \"\"\n",
    "    \n",
    "    if \"Compound_Name\" in positive_node[1]:\n",
    "        positive_compound = positive_node[1][\"Compound_Name\"]\n",
    "    \n",
    "    for negative_node in negative_nodes_map:\n",
    "        negative_id = negative_node[0]\n",
    "        negative_mz = float(negative_node[1][\"precursor mass\"])\n",
    "        negative_rt = float(negative_node[1][\"RTMean\"])\n",
    "        negative_compound = \"\"\n",
    "        \n",
    "        if \"Compound_Name\" in negative_node[1]:\n",
    "            negative_compound = negative_node[1][\"Compound_Name\"]\n",
    "        \n",
    "        mz_delta = positive_mz - negative_mz\n",
    "        rt_delta = abs(positive_rt - negative_rt)\n",
    "        \n",
    "        expected_mz_delta = 1.007276 * 2\n",
    "        \n",
    "        mz_delta_error = abs(mz_delta - expected_mz_delta)\n",
    "        mz_delta_error_ppm = mz_delta_error/negative_mz * 1000000\n",
    "        \n",
    "        if mz_delta < 1.9 or mz_delta > 2.1 or rt_delta > RT_TOLERANCE or mz_delta_error_ppm > PPM_ERROR_TOLERANCE:\n",
    "        #if mz_delta < 1.9 or mz_delta > 2.1 or rt_delta > 30:\n",
    "            continue\n",
    "            \n",
    "        plot_values.append(rt_delta)\n",
    "        \n",
    "        new_edges.append([positive_id, negative_id])\n",
    "\n",
    "        #print(mz_delta_error, mz_delta_error_ppm, positive_id, negative_id, mz_delta, rt_delta, positive_compound, \"++++++\" ,negative_compound)\n",
    "        \n",
    "        #if mz_delta > 0 and mz_delta < 5 and rt_delta < 0.5 and len(positive_compound) > 3 and len(negative_compound) > 3:\n",
    "        #    print(positive_id, negative_id, mz_delta, rt_delta, positive_compound, \"++++++\" ,negative_compound)\n",
    "        "
   ]
  },
  {
   "cell_type": "code",
   "execution_count": 14,
   "metadata": {},
   "outputs": [],
   "source": [
    "#Merging Networks\n",
    "merged_network = nx.compose(positive_G, negative_G)"
   ]
  },
  {
   "cell_type": "code",
   "execution_count": 15,
   "metadata": {},
   "outputs": [],
   "source": [
    "#Adding new edges\n",
    "for new_edge in new_edges:\n",
    "    merged_network.add_edge(new_edge[0], new_edge[1], EdgeType=\"IonMode\")"
   ]
  },
  {
   "cell_type": "code",
   "execution_count": 16,
   "metadata": {},
   "outputs": [],
   "source": [
    "#Saving out data\n",
    "nx.write_graphml(merged_network, \"merged_network.graphml\")"
   ]
  },
  {
   "cell_type": "code",
   "execution_count": 11,
   "metadata": {},
   "outputs": [
    {
     "data": {
      "image/png": "[encoded data removed]",
      "text/plain": [
       "<Figure size 432x288 with 1 Axes>"
      ]
     },
     "metadata": {
      "needs_background": "light"
     },
     "output_type": "display_data"
    }
   ],
   "source": [
    "import seaborn as sns\n",
    "import matplotlib.pyplot as plt\n",
    "\n",
    "sns.distplot(plot_values)\n",
    "plt.show()"
   ]
  },
  {
   "cell_type": "code",
   "execution_count": 12,
   "metadata": {},
   "outputs": [
    {
     "data": {
      "image/png": "[encoded data removed]",
      "text/plain": [
       "<Figure size 432x288 with 1 Axes>"
      ]
     },
     "metadata": {
      "needs_background": "light"
     },
     "output_type": "display_data"
    }
   ],
   "source": [
    "import seaborn as sns\n",
    "import matplotlib.pyplot as plt\n",
    "\n",
    "sns.distplot(plot_values)\n",
    "plt.show()"
   ]
  },
  {
   "cell_type": "code",
   "execution_count": null,
   "metadata": {
    "collapsed": true
   },
   "outputs": [],
   "source": []
  }
 ],
 "metadata": {
  "kernelspec": {
   "display_name": "Python 3",
   "language": "python",
   "name": "python3"
  },
  "language_info": {
   "codemirror_mode": {
    "name": "ipython",
    "version": 3
   },
   "file_extension": ".py",
   "mimetype": "text/x-python",
   "name": "python",
   "nbconvert_exporter": "python",
   "pygments_lexer": "ipython3",
   "version": "3.7.2"
  }
 },
 "nbformat": 4,
 "nbformat_minor": 2
}
