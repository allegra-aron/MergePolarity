{
 "cells": [
  {
   "cell_type": "code",
   "execution_count": 22,
   "metadata": {},
   "outputs": [],
   "source": [
    "import pandas as pd\n",
    "import networkx as nx\n",
    "import requests"
   ]
  },
  {
   "cell_type": "code",
   "execution_count": 23,
   "metadata": {},
   "outputs": [],
   "source": [
    "my_graph = nx.read_graphml(\"merged_graph.graphml\")"
   ]
  },
  {
   "cell_type": "code",
   "execution_count": 24,
   "metadata": {},
   "outputs": [],
   "source": [
    "all_edges = my_graph.edges(data=True)\n",
    "node_dict = {}\n",
    "for node in list(my_graph.nodes(data=True)):\n",
    "    node_dict[node[0]] = node[1]"
   ]
  },
  {
   "cell_type": "code",
   "execution_count": 42,
   "metadata": {},
   "outputs": [
    {
     "name": "stdout",
     "output_type": "stream",
     "text": [
      "C1=CN(C(=O)N=C1N)C2C(C(C(O2)CO)O)O C1=CN(C(=O)N=C1N)C2C(C(C(O2)CO)O)O\n",
      "{'precursor mass': 242.0784, 'RTMean': 6.0745, 'Instrument': 'HCD', 'DefaultGroups': 'N/A', 'RTConsensus': 6.0745, 'Library_Class': '3', 'G5': 0.0, 'G4': 0.0, 'G3': 0.0, 'G2': 0.0, 'G1': 0.0, 'componentindex': '4', 'charge': 0, 'UniqueFileSources': 'N/A', 'sum(precursor intensity)': 33862.0220867, 'PI': 'NIST', 'SpectrumID': 'CCMSLIB00003393256', 'Ion_Source': 'ESI', 'ionization_mode': 'negative', 'MassDiff': '0.000198364', 'tags': ' ', 'MQScore': '0.926563', 'AllGroups': 'N/A', 'IonMode': 'Negative', 'cluster index': 18, 'Compound_Name': 'Cytidine', 'parent mass': -240.0784, 'Compound_Source': 'Isolated', 'Adduct': 'M-H', 'SharedPeaks': '6', 'G6': 0.0, 'GNPSLinkout_Cluster': 'https://gnps.ucsd.edu/ProteoSAFe/result.jsp?task=74415f2547954d42ab09ed9d222fd10c&view=view_all_clusters_withID&show=true#{\"main.cluster index_lowerinput\":\"18\",\"main.cluster index_upperinput\":\"18\"}', 'GNPSLinkout_Network': 'https://gnps.ucsd.edu/ProteoSAFe/result.jsp?view=network_displayer&componentindex=4&task=74415f2547954d42ab09ed9d222fd10c&show=true', 'number of spectra': 2, 'Data_Collector': 'NIST', 'MZErrorPPM': '0.819422', 'INCHI': 'InChI=1S/C9H13N3O5/c10-5-1-2-12(9(16)11-5)8-7(15)6(14)4(3-13)17-8/h1-2,4,6-8,13-15H,3H2,(H2,10,11,16)/t4-,6-,7-,8-/m1/s1', 'GNPSLibraryURL': 'http://gnps.ucsd.edu/ProteoSAFe/gnpslibraryspectrum.jsp?SpectrumID=CCMSLIB00003393256', 'Smiles': 'C1=CN(C(=O)N=C1N)C2C(C(C(O2)CO)O)O'}\n",
      "C1=NC(=O)C2=C(N1)N(C=N2)C3C(C(C(O3)CO)O)O C1=NC2=C(N1)C(=O)N=CN2\n",
      "{'precursor mass': 137.0458, 'RTMean': 2.8452, 'Instrument': 'HCD', 'DefaultGroups': 'N/A', 'RTConsensus': 2.8452, 'Library_Class': '3', 'G5': 0.0, 'G4': 0.0, 'G3': 0.0, 'G2': 0.0, 'G1': 0.0, 'componentindex': '1', 'charge': 0, 'UniqueFileSources': 'N/A', 'sum(precursor intensity)': 59507.3181067, 'PI': 'NIST', 'SpectrumID': 'CCMSLIB00003452122', 'Ion_Source': 'ESI', 'ionization_mode': 'positive', 'MassDiff': '0', 'tags': ' ', 'MQScore': '0.960013', 'AllGroups': 'N/A', 'MZErrorPPM': '0', 'cluster index': 9, 'Compound_Name': 'Inosine', 'parent mass': 137.0458, 'Compound_Source': 'Isolated', 'Adduct': 'M+H-C5H8O4', 'SharedPeaks': '4', 'G6': 0.0, 'GNPSLinkout_Network': 'https://gnps.ucsd.edu/ProteoSAFe/result.jsp?view=network_displayer&componentindex=1&task=97b337032dfb453b97b0486b32ba9b9b&show=true', 'GNPSLinkout_Cluster': 'https://gnps.ucsd.edu/ProteoSAFe/result.jsp?task=97b337032dfb453b97b0486b32ba9b9b&view=view_all_clusters_withID&show=true#{\"main.cluster index_lowerinput\":\"9\",\"main.cluster index_upperinput\":\"9\"}', 'number of spectra': 2, 'Data_Collector': 'NIST', 'IonMode': 'Positive', 'INCHI': 'InChI=1S/C10H12N4O5/c15-1-4-6(16)7(17)10(19-4)14-3-13-5-8(14)11-2-12-9(5)18/h2-4,6-7,10,15-17H,1H2,(H,11,12,18)/t4-,6-,7-,10-/m1/s1', 'GNPSLibraryURL': 'http://gnps.ucsd.edu/ProteoSAFe/gnpslibraryspectrum.jsp?SpectrumID=CCMSLIB00003452122', 'Smiles': 'C1=NC(=O)C2=C(N1)N(C=N2)C3C(C(C(O3)CO)O)O'}\n",
      "CCS(=O)(=O)CCO C1=C(NC=N1)C=CC(=O)O\n",
      "{'precursor mass': 139.0503, 'RTMean': 1.6622, 'Instrument': 'IT-FT/ion trap with FTMS', 'DefaultGroups': 'N/A', 'RTConsensus': 1.6622, 'Library_Class': '3', 'G5': 0.0, 'G4': 0.0, 'G3': 0.0, 'G2': 0.0, 'G1': 0.0, 'componentindex': '1', 'charge': 0, 'UniqueFileSources': 'N/A', 'sum(precursor intensity)': 475.422884219, 'PI': 'NIST', 'SpectrumID': 'CCMSLIB00003351033', 'Ion_Source': 'ESI', 'ionization_mode': 'positive', 'MassDiff': '0.00799561', 'tags': ' ', 'MQScore': '0.989869', 'AllGroups': 'N/A', 'MZErrorPPM': '57.5048', 'cluster index': 128, 'Compound_Name': '2-(Ethylsulfonyl)ethanol', 'parent mass': 139.0503, 'Compound_Source': 'Isolated', 'Adduct': 'M+H', 'SharedPeaks': '3', 'G6': 0.0, 'GNPSLinkout_Network': 'https://gnps.ucsd.edu/ProteoSAFe/result.jsp?view=network_displayer&componentindex=1&task=97b337032dfb453b97b0486b32ba9b9b&show=true', 'GNPSLinkout_Cluster': 'https://gnps.ucsd.edu/ProteoSAFe/result.jsp?task=97b337032dfb453b97b0486b32ba9b9b&view=view_all_clusters_withID&show=true#{\"main.cluster index_lowerinput\":\"128\",\"main.cluster index_upperinput\":\"128\"}', 'number of spectra': 2, 'Data_Collector': 'NIST', 'IonMode': 'Positive', 'INCHI': 'InChI=1S/C4H10O3S/c1-2-8(6,7)4-3-5/h5H,2-4H2,1H3', 'GNPSLibraryURL': 'http://gnps.ucsd.edu/ProteoSAFe/gnpslibraryspectrum.jsp?SpectrumID=CCMSLIB00003351033', 'Smiles': 'CCS(=O)(=O)CCO'}\n",
      "CCS(=O)(=O)CCO C1=CC=C(C(=C1)C(=O)OC2=CC=CC=C2C(=O)O)O\n",
      "{'precursor mass': 139.0503, 'RTMean': 1.6622, 'Instrument': 'IT-FT/ion trap with FTMS', 'DefaultGroups': 'N/A', 'RTConsensus': 1.6622, 'Library_Class': '3', 'G5': 0.0, 'G4': 0.0, 'G3': 0.0, 'G2': 0.0, 'G1': 0.0, 'componentindex': '1', 'charge': 0, 'UniqueFileSources': 'N/A', 'sum(precursor intensity)': 475.422884219, 'PI': 'NIST', 'SpectrumID': 'CCMSLIB00003351033', 'Ion_Source': 'ESI', 'ionization_mode': 'positive', 'MassDiff': '0.00799561', 'tags': ' ', 'MQScore': '0.989869', 'AllGroups': 'N/A', 'MZErrorPPM': '57.5048', 'cluster index': 128, 'Compound_Name': '2-(Ethylsulfonyl)ethanol', 'parent mass': 139.0503, 'Compound_Source': 'Isolated', 'Adduct': 'M+H', 'SharedPeaks': '3', 'G6': 0.0, 'GNPSLinkout_Network': 'https://gnps.ucsd.edu/ProteoSAFe/result.jsp?view=network_displayer&componentindex=1&task=97b337032dfb453b97b0486b32ba9b9b&show=true', 'GNPSLinkout_Cluster': 'https://gnps.ucsd.edu/ProteoSAFe/result.jsp?task=97b337032dfb453b97b0486b32ba9b9b&view=view_all_clusters_withID&show=true#{\"main.cluster index_lowerinput\":\"128\",\"main.cluster index_upperinput\":\"128\"}', 'number of spectra': 2, 'Data_Collector': 'NIST', 'IonMode': 'Positive', 'INCHI': 'InChI=1S/C4H10O3S/c1-2-8(6,7)4-3-5/h5H,2-4H2,1H3', 'GNPSLibraryURL': 'http://gnps.ucsd.edu/ProteoSAFe/gnpslibraryspectrum.jsp?SpectrumID=CCMSLIB00003351033', 'Smiles': 'CCS(=O)(=O)CCO'}\n",
      "CC(=O)NC(CCCC[NH3+])C(=O)[O-] CC(=O)NC(CCCC[NH3+])C(=O)[O-]\n",
      "{'precursor mass': 189.1234, 'RTMean': 15.012, 'Instrument': 'Q-TOF', 'DefaultGroups': 'N/A', 'RTConsensus': 15.012, 'Library_Class': '3', 'G5': 0.0, 'G4': 0.0, 'G3': 0.0, 'G2': 0.0, 'G1': 0.0, 'componentindex': '1', 'charge': 0, 'UniqueFileSources': 'N/A', 'sum(precursor intensity)': 3031.40499126, 'PI': 'NIST', 'SpectrumID': 'CCMSLIB00003191972', 'Ion_Source': 'ESI', 'ionization_mode': 'positive', 'MassDiff': '0', 'tags': ' ', 'MQScore': '0.988113', 'AllGroups': 'N/A', 'MZErrorPPM': '0', 'cluster index': 57, 'Compound_Name': 'N.alpha.-Acetyl-L-lysine', 'parent mass': 189.1234, 'Compound_Source': 'Isolated', 'Adduct': 'M+H', 'SharedPeaks': '11', 'G6': 0.0, 'GNPSLinkout_Network': 'https://gnps.ucsd.edu/ProteoSAFe/result.jsp?view=network_displayer&componentindex=1&task=97b337032dfb453b97b0486b32ba9b9b&show=true', 'GNPSLinkout_Cluster': 'https://gnps.ucsd.edu/ProteoSAFe/result.jsp?task=97b337032dfb453b97b0486b32ba9b9b&view=view_all_clusters_withID&show=true#{\"main.cluster index_lowerinput\":\"57\",\"main.cluster index_upperinput\":\"57\"}', 'number of spectra': 2, 'Data_Collector': 'NIST', 'IonMode': 'Positive', 'INCHI': 'InChI=1S/C8H16N2O3/c1-6(11)10-7(8(12)13)4-2-3-5-9/h7H,2-5,9H2,1H3,(H,10,11)(H,12,13)/t7-/m0/s1', 'GNPSLibraryURL': 'http://gnps.ucsd.edu/ProteoSAFe/gnpslibraryspectrum.jsp?SpectrumID=CCMSLIB00003191972', 'Smiles': 'CC(=O)NC(CCCC[NH3+])C(=O)[O-]'}\n",
      "C1=CC=C2C(=C1)C(=CN2)CC(C(=O)O)N c1cccc2c1c(c[nH]2)C[C@@H](N)C(=O)O\n",
      "{'precursor mass': 205.0972, 'RTMean': 9.7487, 'Instrument': 'LC-ESI-QTOF', 'DefaultGroups': 'N/A', 'RTConsensus': 9.7487, 'Library_Class': '3', 'G5': 0.0, 'G4': 0.0, 'G3': 0.0, 'G2': 0.0, 'G1': 0.0, 'componentindex': '3', 'charge': 0, 'UniqueFileSources': 'N/A', 'sum(precursor intensity)': 4283.22515943, 'PI': 'Putative Massbank Match', 'SpectrumID': 'CCMSLIB00000205165', 'Ion_Source': 'ESI', 'ionization_mode': 'positive', 'MassDiff': '0.000198364', 'tags': ' ', 'MQScore': '0.997587', 'AllGroups': 'N/A', 'MZErrorPPM': '0.967173', 'cluster index': 55, 'Compound_Name': 'Massbank:BML01185 L-Tryptophan', 'parent mass': 205.0972, 'Compound_Source': 'Isolated', 'Adduct': '[M+H]+', 'SharedPeaks': '7', 'G6': 0.0, 'GNPSLinkout_Network': 'https://gnps.ucsd.edu/ProteoSAFe/result.jsp?view=network_displayer&componentindex=3&task=97b337032dfb453b97b0486b32ba9b9b&show=true', 'GNPSLinkout_Cluster': 'https://gnps.ucsd.edu/ProteoSAFe/result.jsp?task=97b337032dfb453b97b0486b32ba9b9b&view=view_all_clusters_withID&show=true#{\"main.cluster index_lowerinput\":\"55\",\"main.cluster index_upperinput\":\"55\"}', 'number of spectra': 2, 'Data_Collector': 'Massbank', 'IonMode': 'Positive', 'INCHI': '1S/C11H12N2O2/c12-9(11(14)15)5-7-6-13-10-4-2-1-3-8(7)10/h1-4,6,9,13H,5,12H2,(H,14,15)', 'GNPSLibraryURL': 'http://gnps.ucsd.edu/ProteoSAFe/gnpslibraryspectrum.jsp?SpectrumID=CCMSLIB00000205165', 'Smiles': 'C1=CC=C2C(=C1)C(=CN2)CC(C(=O)O)N'}\n",
      "C1=NC(=O)C2=C(N1)N(C=N2)C3C(C(C(O3)CO)O)O C1=NC(=O)C2=C(N1)N(C=N2)C3C(C(C(O3)CO)O)O\n",
      "{'precursor mass': 267.0735, 'RTMean': 4.607, 'Instrument': 'Q-Exactive Plus', 'DefaultGroups': 'N/A', 'RTConsensus': 4.607, 'Library_Class': '1', 'G5': 0.0, 'G4': 0.0, 'G3': 0.0, 'G2': 0.0, 'G1': 0.0, 'componentindex': '-1', 'charge': 0, 'UniqueFileSources': 'N/A', 'sum(precursor intensity)': 116135.903479, 'PI': 'Alexandrov Theodore', 'SpectrumID': 'CCMSLIB00000578104', 'Ion_Source': 'LC-ESI', 'ionization_mode': 'negative', 'MassDiff': '0.000488281', 'tags': ' ', 'MQScore': '0.956514', 'AllGroups': 'N/A', 'IonMode': 'Negative', 'cluster index': 5, 'Compound_Name': 'INOSINE', 'parent mass': -265.0735, 'Compound_Source': 'Commercial standard', 'Adduct': 'M-H', 'SharedPeaks': '3', 'G6': 0.0, 'GNPSLinkout_Cluster': 'https://gnps.ucsd.edu/ProteoSAFe/result.jsp?task=74415f2547954d42ab09ed9d222fd10c&view=view_all_clusters_withID&show=true#{\"main.cluster index_lowerinput\":\"5\",\"main.cluster index_upperinput\":\"5\"}', 'GNPSLinkout_Network': 'This Node is a Singleton', 'number of spectra': 2, 'Data_Collector': 'Prasad', 'MZErrorPPM': '1.82827', 'INCHI': 'N/A', 'GNPSLibraryURL': 'http://gnps.ucsd.edu/ProteoSAFe/gnpslibraryspectrum.jsp?SpectrumID=CCMSLIB00000578104', 'Smiles': 'C1=NC(=O)C2=C(N1)N(C=N2)C3C(C(C(O3)CO)O)O'}\n",
      "C(CS(=O)(=O)[O-])[NH+]=C(N)N C1=NC2=C(N1C3C(C(C(O3)CO)O)O)NC(=O)NC2=O\n",
      "{'precursor mass': 151.0261, 'RTMean': 2.3484, 'Instrument': 'IT-FT/ion trap with FTMS', 'DefaultGroups': 'N/A', 'RTConsensus': 2.3484, 'Library_Class': '3', 'G5': 0.0, 'G4': 0.0, 'G3': 0.0, 'G2': 0.0, 'G1': 0.0, 'componentindex': '-1', 'charge': 0, 'UniqueFileSources': 'N/A', 'sum(precursor intensity)': 114990.632033, 'PI': 'NIST', 'SpectrumID': 'CCMSLIB00003369517', 'Ion_Source': 'ESI', 'ionization_mode': 'negative', 'MassDiff': '0.00889587', 'tags': ' ', 'MQScore': '0.938766', 'AllGroups': 'N/A', 'IonMode': 'Positive', 'cluster index': 3, 'Compound_Name': 'Guanidinoethyl sulfonate', 'parent mass': -149.0261, 'Compound_Source': 'Isolated', 'Adduct': 'M+H-NH3', 'SharedPeaks': '3', 'G6': 0.0, 'GNPSLinkout_Cluster': 'https://gnps.ucsd.edu/ProteoSAFe/result.jsp?task=74415f2547954d42ab09ed9d222fd10c&view=view_all_clusters_withID&show=true#{\"main.cluster index_lowerinput\":\"3\",\"main.cluster index_upperinput\":\"3\"}', 'GNPSLinkout_Network': 'This Node is a Singleton', 'number of spectra': 2, 'Data_Collector': 'NIST', 'MZErrorPPM': '58.9064', 'INCHI': 'InChI=1S/C3H9N3O3S/c4-3(5)6-1-2-10(7,8)9/h1-2H2,(H4,4,5,6)(H,7,8,9)', 'GNPSLibraryURL': 'http://gnps.ucsd.edu/ProteoSAFe/gnpslibraryspectrum.jsp?SpectrumID=CCMSLIB00003369517', 'Smiles': 'C(CS(=O)(=O)[O-])[NH+]=C(N)N'}\n",
      "C1=NC2=C(N1C3C(C(C(O3)CO)O)O)NC(=NC2=O)N C1=NC2=C(N1C3C(C(C(O3)CO)O)O)NC(=NC2=O)N\n",
      "{'precursor mass': 282.0844, 'RTMean': 7.7891, 'Instrument': 'HCD', 'DefaultGroups': 'N/A', 'RTConsensus': 7.7891, 'Library_Class': '3', 'G5': 0.0, 'G4': 0.0, 'G3': 0.0, 'G2': 0.0, 'G1': 0.0, 'componentindex': '-1', 'charge': 0, 'UniqueFileSources': 'N/A', 'sum(precursor intensity)': 51228.1214115, 'PI': 'NIST', 'SpectrumID': 'CCMSLIB00003393300', 'Ion_Source': 'ESI', 'ionization_mode': 'negative', 'MassDiff': '0', 'tags': ' ', 'MQScore': '0.969367', 'AllGroups': 'N/A', 'IonMode': 'Negative', 'cluster index': 16, 'Compound_Name': 'Guanosine', 'parent mass': -280.0844, 'Compound_Source': 'Isolated', 'Adduct': 'M-H', 'SharedPeaks': '4', 'G6': 0.0, 'GNPSLinkout_Cluster': 'https://gnps.ucsd.edu/ProteoSAFe/result.jsp?task=74415f2547954d42ab09ed9d222fd10c&view=view_all_clusters_withID&show=true#{\"main.cluster index_lowerinput\":\"16\",\"main.cluster index_upperinput\":\"16\"}', 'GNPSLinkout_Network': 'This Node is a Singleton', 'number of spectra': 2, 'Data_Collector': 'NIST', 'MZErrorPPM': '0', 'INCHI': 'InChI=1S/C10H13N5O5/c11-10-13-7-4(8(19)14-10)12-2-15(7)9-6(18)5(17)3(1-16)20-9/h2-3,5-6,9,16-18H,1H2,(H3,11,13,14,19)/t3-,5-,6-,9-/m1/s1', 'GNPSLibraryURL': 'http://gnps.ucsd.edu/ProteoSAFe/gnpslibraryspectrum.jsp?SpectrumID=CCMSLIB00003393300', 'Smiles': 'C1=NC2=C(N1C3C(C(C(O3)CO)O)O)NC(=NC2=O)N'}\n",
      "C1C(C(OC1N2C=CC(=NC2=O)N)CO)O C1C(C(OC1N2C=CC(=NC2=O)N)CO)O\n",
      "{'precursor mass': 226.0834, 'RTMean': 5.1363, 'Instrument': 'LC-Q-TOF/MS', 'DefaultGroups': 'N/A', 'RTConsensus': 5.1363, 'Library_Class': '3', 'G5': 0.0, 'G4': 0.0, 'G3': 0.0, 'G2': 0.0, 'G1': 0.0, 'componentindex': '-1', 'charge': 0, 'UniqueFileSources': 'N/A', 'sum(precursor intensity)': 35892.144946, 'PI': 'Putative ReSpect Match', 'SpectrumID': 'CCMSLIB00000221811', 'Ion_Source': 'ESI', 'ionization_mode': 'negative', 'MassDiff': '0.000411987', 'tags': ' ', 'MQScore': '0.980089', 'AllGroups': 'N/A', 'IonMode': 'Positive', 'cluster index': 17, 'Compound_Name': \"ReSpect:PT201440 2'-Deoxycytidine|dC|dCYD|2'-Deoxy-CYD|Cytosine deoxyriboside|4-amino-1-[(2R,4S,5R)-4-hydroxy-5-(hydroxymethyl)oxolan-2-yl]pyrimidin-2-one\", 'parent mass': -224.0834, 'Compound_Source': 'Isolated', 'Adduct': '[M+H]', 'SharedPeaks': '3', 'G6': 0.0, 'GNPSLinkout_Cluster': 'https://gnps.ucsd.edu/ProteoSAFe/result.jsp?task=74415f2547954d42ab09ed9d222fd10c&view=view_all_clusters_withID&show=true#{\"main.cluster index_lowerinput\":\"17\",\"main.cluster index_upperinput\":\"17\"}', 'GNPSLinkout_Network': 'This Node is a Singleton', 'number of spectra': 2, 'Data_Collector': 'ReSpect', 'MZErrorPPM': '1.82228', 'INCHI': '1/C9H13N3O4/c10-7-1-2-12(9(15)11-7)8-3-5(14)6(4-13)16-8/h1-2,5-6,8,13-14H,3-4H2,(H2,10,11,15)/t5-,6+,8+/m0/s1/f/h10H2', 'GNPSLibraryURL': 'http://gnps.ucsd.edu/ProteoSAFe/gnpslibraryspectrum.jsp?SpectrumID=CCMSLIB00000221811', 'Smiles': 'C1C(C(OC1N2C=CC(=NC2=O)N)CO)O'}\n",
      "C1=NC2=C(N1)C(=O)N=CN2 C1=NC2=C(N1)C(=O)N=CN2\n",
      "{'precursor mass': 135.0313, 'RTMean': 2.8256, 'Instrument': 'Q-Exactive Plus', 'DefaultGroups': 'N/A', 'RTConsensus': 2.8256, 'Library_Class': '1', 'G5': 0.0, 'G4': 0.0, 'G3': 0.0, 'G2': 0.0, 'G1': 0.0, 'componentindex': '-1', 'charge': 0, 'UniqueFileSources': 'N/A', 'sum(precursor intensity)': 64732.6187735, 'PI': 'Alexandrov Theodore', 'SpectrumID': 'CCMSLIB00000578135', 'Ion_Source': 'LC-ESI', 'ionization_mode': 'negative', 'MassDiff': '0.000289917', 'tags': ' ', 'MQScore': '0.976984', 'AllGroups': 'N/A', 'IonMode': 'Negative', 'cluster index': 12, 'Compound_Name': 'HYPOXANTHINE', 'parent mass': -133.0313, 'Compound_Source': 'Commercial standard', 'Adduct': 'M-H', 'SharedPeaks': '3', 'G6': 0.0, 'GNPSLinkout_Cluster': 'https://gnps.ucsd.edu/ProteoSAFe/result.jsp?task=74415f2547954d42ab09ed9d222fd10c&view=view_all_clusters_withID&show=true#{\"main.cluster index_lowerinput\":\"12\",\"main.cluster index_upperinput\":\"12\"}', 'GNPSLinkout_Network': 'This Node is a Singleton', 'number of spectra': 2, 'Data_Collector': 'Prasad', 'MZErrorPPM': '2.14704', 'INCHI': 'N/A', 'GNPSLibraryURL': 'http://gnps.ucsd.edu/ProteoSAFe/gnpslibraryspectrum.jsp?SpectrumID=CCMSLIB00000578135', 'Smiles': 'C1=NC2=C(N1)C(=O)N=CN2'}\n",
      "CC1=NC=C(C(=C1O)COC)CO CC1=NC=C(C(=C1O)COC)CO\n",
      "{'precursor mass': 152.0706, 'RTMean': 2.1838, 'Instrument': 'HCD', 'DefaultGroups': 'N/A', 'RTConsensus': 2.1838, 'Library_Class': '3', 'G5': 0.0, 'G4': 0.0, 'G3': 0.0, 'G2': 0.0, 'G1': 0.0, 'componentindex': '1', 'charge': 0, 'UniqueFileSources': 'N/A', 'sum(precursor intensity)': 27520.7318859, 'PI': 'NIST', 'SpectrumID': 'CCMSLIB00003422403', 'Ion_Source': 'ESI', 'ionization_mode': 'positive', 'MassDiff': '0', 'tags': ' ', 'MQScore': '0.99523', 'AllGroups': 'N/A', 'MZErrorPPM': '0', 'cluster index': 20, 'Compound_Name': 'Ginkgotoxin', 'parent mass': 152.0706, 'Compound_Source': 'Isolated', 'Adduct': 'M+H-CH4O', 'SharedPeaks': '7', 'G6': 0.0, 'GNPSLinkout_Network': 'https://gnps.ucsd.edu/ProteoSAFe/result.jsp?view=network_displayer&componentindex=1&task=97b337032dfb453b97b0486b32ba9b9b&show=true', 'GNPSLinkout_Cluster': 'https://gnps.ucsd.edu/ProteoSAFe/result.jsp?task=97b337032dfb453b97b0486b32ba9b9b&view=view_all_clusters_withID&show=true#{\"main.cluster index_lowerinput\":\"20\",\"main.cluster index_upperinput\":\"20\"}', 'number of spectra': 2, 'Data_Collector': 'NIST', 'IonMode': 'Positive', 'INCHI': 'InChI=1S/C9H13NO3/c1-6-9(12)8(5-13-2)7(4-11)3-10-6/h3,11-12H,4-5H2,1-2H3', 'GNPSLibraryURL': 'http://gnps.ucsd.edu/ProteoSAFe/gnpslibraryspectrum.jsp?SpectrumID=CCMSLIB00003422403', 'Smiles': 'CC1=NC=C(C(=C1O)COC)CO'}\n",
      "C1C(C(OC1N2C=NC3=C2NC(=NC3=O)N)CO)O C1=NC2=C(N1)C(=O)N=C(N2)N\n",
      "{'precursor mass': 152.0568, 'RTMean': 7.7959, 'Instrument': 'HCD', 'DefaultGroups': 'N/A', 'RTConsensus': 7.7959, 'Library_Class': '3', 'G5': 0.0, 'G4': 0.0, 'G3': 0.0, 'G2': 0.0, 'G1': 0.0, 'componentindex': '1', 'charge': 0, 'UniqueFileSources': 'N/A', 'sum(precursor intensity)': 15050.2020121, 'PI': 'NIST', 'SpectrumID': 'CCMSLIB00003469054', 'Ion_Source': 'ESI', 'ionization_mode': 'positive', 'MassDiff': '9.15527e-05', 'tags': ' ', 'MQScore': '0.98139', 'AllGroups': 'N/A', 'MZErrorPPM': '0.602096', 'cluster index': 27, 'Compound_Name': \"2'-Deoxyguanosine\", 'parent mass': 152.0568, 'Compound_Source': 'Isolated', 'Adduct': 'M+H-C5H8O3', 'SharedPeaks': '5', 'G6': 0.0, 'GNPSLinkout_Network': 'https://gnps.ucsd.edu/ProteoSAFe/result.jsp?view=network_displayer&componentindex=1&task=97b337032dfb453b97b0486b32ba9b9b&show=true', 'GNPSLinkout_Cluster': 'https://gnps.ucsd.edu/ProteoSAFe/result.jsp?task=97b337032dfb453b97b0486b32ba9b9b&view=view_all_clusters_withID&show=true#{\"main.cluster index_lowerinput\":\"27\",\"main.cluster index_upperinput\":\"27\"}', 'number of spectra': 2, 'Data_Collector': 'NIST', 'IonMode': 'Positive', 'INCHI': 'InChI=1S/C10H13N5O4/c11-10-13-8-7(9(18)14-10)12-3-15(8)6-1-4(17)5(2-16)19-6/h3-6,16-17H,1-2H2,(H3,11,13,14,18)/t4-,5+,6+/m0/s1', 'GNPSLibraryURL': 'http://gnps.ucsd.edu/ProteoSAFe/gnpslibraryspectrum.jsp?SpectrumID=CCMSLIB00003469054', 'Smiles': 'C1C(C(OC1N2C=NC3=C2NC(=NC3=O)N)CO)O'}\n",
      "C1C(C(OC1N2C=NC3=C2NC(=NC3=O)N)CO)O C1=NC2=C(N1)C(=O)N=C(N2)N\n",
      "{'precursor mass': 152.0568, 'RTMean': 7.7959, 'Instrument': 'HCD', 'DefaultGroups': 'N/A', 'RTConsensus': 7.7959, 'Library_Class': '3', 'G5': 0.0, 'G4': 0.0, 'G3': 0.0, 'G2': 0.0, 'G1': 0.0, 'componentindex': '1', 'charge': 0, 'UniqueFileSources': 'N/A', 'sum(precursor intensity)': 15050.2020121, 'PI': 'NIST', 'SpectrumID': 'CCMSLIB00003469054', 'Ion_Source': 'ESI', 'ionization_mode': 'positive', 'MassDiff': '9.15527e-05', 'tags': ' ', 'MQScore': '0.98139', 'AllGroups': 'N/A', 'MZErrorPPM': '0.602096', 'cluster index': 27, 'Compound_Name': \"2'-Deoxyguanosine\", 'parent mass': 152.0568, 'Compound_Source': 'Isolated', 'Adduct': 'M+H-C5H8O3', 'SharedPeaks': '5', 'G6': 0.0, 'GNPSLinkout_Network': 'https://gnps.ucsd.edu/ProteoSAFe/result.jsp?view=network_displayer&componentindex=1&task=97b337032dfb453b97b0486b32ba9b9b&show=true', 'GNPSLinkout_Cluster': 'https://gnps.ucsd.edu/ProteoSAFe/result.jsp?task=97b337032dfb453b97b0486b32ba9b9b&view=view_all_clusters_withID&show=true#{\"main.cluster index_lowerinput\":\"27\",\"main.cluster index_upperinput\":\"27\"}', 'number of spectra': 2, 'Data_Collector': 'NIST', 'IonMode': 'Positive', 'INCHI': 'InChI=1S/C10H13N5O4/c11-10-13-8-7(9(18)14-10)12-3-15(8)6-1-4(17)5(2-16)19-6/h3-6,16-17H,1-2H2,(H3,11,13,14,18)/t4-,5+,6+/m0/s1', 'GNPSLibraryURL': 'http://gnps.ucsd.edu/ProteoSAFe/gnpslibraryspectrum.jsp?SpectrumID=CCMSLIB00003469054', 'Smiles': 'C1C(C(OC1N2C=NC3=C2NC(=NC3=O)N)CO)O'}\n",
      "C1=NC2=C(N1C3C(C(C(O3)CO)O)O)NC(=NC2=O)N C1=NC2=C(N1)C(=O)N=C(N2)N\n",
      "{'precursor mass': 152.0569, 'RTMean': 5.6965, 'Instrument': 'HCD', 'DefaultGroups': 'N/A', 'RTConsensus': 5.6965, 'Library_Class': '3', 'G5': 0.0, 'G4': 0.0, 'G3': 0.0, 'G2': 0.0, 'G1': 0.0, 'componentindex': '1', 'charge': 0, 'UniqueFileSources': 'N/A', 'sum(precursor intensity)': 9708.76027016, 'PI': 'NIST', 'SpectrumID': 'CCMSLIB00003393285', 'Ion_Source': 'ESI', 'ionization_mode': 'positive', 'MassDiff': '0.000198364', 'tags': ' ', 'MQScore': '0.977968', 'AllGroups': 'N/A', 'MZErrorPPM': '1.30454', 'cluster index': 30, 'Compound_Name': 'Guanosine', 'parent mass': 152.0569, 'Compound_Source': 'Isolated', 'Adduct': 'M+H-C5H8O4', 'SharedPeaks': '5', 'G6': 0.0, 'GNPSLinkout_Network': 'https://gnps.ucsd.edu/ProteoSAFe/result.jsp?view=network_displayer&componentindex=1&task=97b337032dfb453b97b0486b32ba9b9b&show=true', 'GNPSLinkout_Cluster': 'https://gnps.ucsd.edu/ProteoSAFe/result.jsp?task=97b337032dfb453b97b0486b32ba9b9b&view=view_all_clusters_withID&show=true#{\"main.cluster index_lowerinput\":\"30\",\"main.cluster index_upperinput\":\"30\"}', 'number of spectra': 2, 'Data_Collector': 'NIST', 'IonMode': 'Positive', 'INCHI': 'InChI=1S/C10H13N5O5/c11-10-13-7-4(8(19)14-10)12-2-15(7)9-6(18)5(17)3(1-16)20-9/h2-3,5-6,9,16-18H,1H2,(H3,11,13,14,19)/t3-,5-,6-,9-/m1/s1', 'GNPSLibraryURL': 'http://gnps.ucsd.edu/ProteoSAFe/gnpslibraryspectrum.jsp?SpectrumID=CCMSLIB00003393285', 'Smiles': 'C1=NC2=C(N1C3C(C(C(O3)CO)O)O)NC(=NC2=O)N'}\n",
      "C1=NC2=C(N1C3C(C(C(O3)CO)O)O)NC(=NC2=O)N C1=NC2=C(N1)C(=O)N=C(N2)N\n",
      "{'precursor mass': 152.0569, 'RTMean': 5.6965, 'Instrument': 'HCD', 'DefaultGroups': 'N/A', 'RTConsensus': 5.6965, 'Library_Class': '3', 'G5': 0.0, 'G4': 0.0, 'G3': 0.0, 'G2': 0.0, 'G1': 0.0, 'componentindex': '1', 'charge': 0, 'UniqueFileSources': 'N/A', 'sum(precursor intensity)': 9708.76027016, 'PI': 'NIST', 'SpectrumID': 'CCMSLIB00003393285', 'Ion_Source': 'ESI', 'ionization_mode': 'positive', 'MassDiff': '0.000198364', 'tags': ' ', 'MQScore': '0.977968', 'AllGroups': 'N/A', 'MZErrorPPM': '1.30454', 'cluster index': 30, 'Compound_Name': 'Guanosine', 'parent mass': 152.0569, 'Compound_Source': 'Isolated', 'Adduct': 'M+H-C5H8O4', 'SharedPeaks': '5', 'G6': 0.0, 'GNPSLinkout_Network': 'https://gnps.ucsd.edu/ProteoSAFe/result.jsp?view=network_displayer&componentindex=1&task=97b337032dfb453b97b0486b32ba9b9b&show=true', 'GNPSLinkout_Cluster': 'https://gnps.ucsd.edu/ProteoSAFe/result.jsp?task=97b337032dfb453b97b0486b32ba9b9b&view=view_all_clusters_withID&show=true#{\"main.cluster index_lowerinput\":\"30\",\"main.cluster index_upperinput\":\"30\"}', 'number of spectra': 2, 'Data_Collector': 'NIST', 'IonMode': 'Positive', 'INCHI': 'InChI=1S/C10H13N5O5/c11-10-13-7-4(8(19)14-10)12-2-15(7)9-6(18)5(17)3(1-16)20-9/h2-3,5-6,9,16-18H,1H2,(H3,11,13,14,19)/t3-,5-,6-,9-/m1/s1', 'GNPSLibraryURL': 'http://gnps.ucsd.edu/ProteoSAFe/gnpslibraryspectrum.jsp?SpectrumID=CCMSLIB00003393285', 'Smiles': 'C1=NC2=C(N1C3C(C(C(O3)CO)O)O)NC(=NC2=O)N'}\n",
      "C1=C(NC=N1)C=CC(=O)O C1=CC=C(C(=C1)C(=O)OC2=CC=CC=C2C(=O)O)O\n",
      "{'precursor mass': 139.0503, 'RTMean': 8.668, 'Instrument': 'HCD', 'DefaultGroups': 'N/A', 'RTConsensus': 8.668, 'Library_Class': '3', 'G5': 0.0, 'G4': 0.0, 'G3': 0.0, 'G2': 0.0, 'G1': 0.0, 'componentindex': '1', 'charge': 0, 'UniqueFileSources': 'N/A', 'sum(precursor intensity)': 9529.00844002, 'PI': 'NIST', 'SpectrumID': 'CCMSLIB00003297805', 'Ion_Source': 'ESI', 'ionization_mode': 'positive', 'MassDiff': '9.15527e-05', 'tags': ' ', 'MQScore': '0.996815', 'AllGroups': 'N/A', 'MZErrorPPM': '0.658415', 'cluster index': 34, 'Compound_Name': '4-Imidazoleacrylic acid', 'parent mass': 139.0503, 'Compound_Source': 'Isolated', 'Adduct': 'M+H', 'SharedPeaks': '5', 'G6': 0.0, 'GNPSLinkout_Network': 'https://gnps.ucsd.edu/ProteoSAFe/result.jsp?view=network_displayer&componentindex=1&task=97b337032dfb453b97b0486b32ba9b9b&show=true', 'GNPSLinkout_Cluster': 'https://gnps.ucsd.edu/ProteoSAFe/result.jsp?task=97b337032dfb453b97b0486b32ba9b9b&view=view_all_clusters_withID&show=true#{\"main.cluster index_lowerinput\":\"34\",\"main.cluster index_upperinput\":\"34\"}', 'number of spectra': 2, 'Data_Collector': 'NIST', 'IonMode': 'Positive', 'INCHI': 'InChI=1S/C6H6N2O2/c9-6(10)2-1-5-3-7-4-8-5/h1-4H,(H,7,8)(H,9,10)/b2-1+', 'GNPSLibraryURL': 'http://gnps.ucsd.edu/ProteoSAFe/gnpslibraryspectrum.jsp?SpectrumID=CCMSLIB00003297805', 'Smiles': 'C1=C(NC=N1)C=CC(=O)O'}\n",
      "C1=C(NC=N1)C=CC(=O)O C1=C(NC=N1)C=CC(=O)O\n",
      "{'precursor mass': 139.0503, 'RTMean': 8.668, 'Instrument': 'HCD', 'DefaultGroups': 'N/A', 'RTConsensus': 8.668, 'Library_Class': '3', 'G5': 0.0, 'G4': 0.0, 'G3': 0.0, 'G2': 0.0, 'G1': 0.0, 'componentindex': '1', 'charge': 0, 'UniqueFileSources': 'N/A', 'sum(precursor intensity)': 9529.00844002, 'PI': 'NIST', 'SpectrumID': 'CCMSLIB00003297805', 'Ion_Source': 'ESI', 'ionization_mode': 'positive', 'MassDiff': '9.15527e-05', 'tags': ' ', 'MQScore': '0.996815', 'AllGroups': 'N/A', 'MZErrorPPM': '0.658415', 'cluster index': 34, 'Compound_Name': '4-Imidazoleacrylic acid', 'parent mass': 139.0503, 'Compound_Source': 'Isolated', 'Adduct': 'M+H', 'SharedPeaks': '5', 'G6': 0.0, 'GNPSLinkout_Network': 'https://gnps.ucsd.edu/ProteoSAFe/result.jsp?view=network_displayer&componentindex=1&task=97b337032dfb453b97b0486b32ba9b9b&show=true', 'GNPSLinkout_Cluster': 'https://gnps.ucsd.edu/ProteoSAFe/result.jsp?task=97b337032dfb453b97b0486b32ba9b9b&view=view_all_clusters_withID&show=true#{\"main.cluster index_lowerinput\":\"34\",\"main.cluster index_upperinput\":\"34\"}', 'number of spectra': 2, 'Data_Collector': 'NIST', 'IonMode': 'Positive', 'INCHI': 'InChI=1S/C6H6N2O2/c9-6(10)2-1-5-3-7-4-8-5/h1-4H,(H,7,8)(H,9,10)/b2-1+', 'GNPSLibraryURL': 'http://gnps.ucsd.edu/ProteoSAFe/gnpslibraryspectrum.jsp?SpectrumID=CCMSLIB00003297805', 'Smiles': 'C1=C(NC=N1)C=CC(=O)O'}\n",
      "C1=NC2=C(N1)C(=O)N=C(N2)N C=C1C(CC(C1CO)O)N2C=NC3=C2NC(=NC3=O)N\n",
      "{'precursor mass': 150.0421, 'RTMean': 7.7891, 'Instrument': 'LC-Q-TOF/MS', 'DefaultGroups': 'N/A', 'RTConsensus': 7.7891, 'Library_Class': '3', 'G5': 0.0, 'G4': 0.0, 'G3': 0.0, 'G2': 0.0, 'G1': 0.0, 'componentindex': '2', 'charge': 0, 'UniqueFileSources': 'N/A', 'sum(precursor intensity)': 952.70544759, 'PI': 'Putative ReSpect Match', 'SpectrumID': 'CCMSLIB00000221887', 'Ion_Source': 'ESI', 'ionization_mode': 'negative', 'MassDiff': '9.15527e-05', 'tags': ' ', 'MQScore': '0.906829', 'AllGroups': 'N/A', 'IonMode': 'Positive', 'cluster index': 257, 'Compound_Name': 'ReSpect:PT202400 Guanine|2-Amino-6-hydroxypurine|2-Amino-6-oxypurine|2-Aminohypoxanthine|Guanine enol|6-Hydroxy-2-aminopurine|2-amino-3,7-dihydropurin-6-one', 'parent mass': -148.0421, 'Compound_Source': 'Isolated', 'Adduct': '[M+H]', 'SharedPeaks': '3', 'G6': 0.0, 'GNPSLinkout_Cluster': 'https://gnps.ucsd.edu/ProteoSAFe/result.jsp?task=74415f2547954d42ab09ed9d222fd10c&view=view_all_clusters_withID&show=true#{\"main.cluster index_lowerinput\":\"257\",\"main.cluster index_upperinput\":\"257\"}', 'GNPSLinkout_Network': 'https://gnps.ucsd.edu/ProteoSAFe/result.jsp?view=network_displayer&componentindex=2&task=74415f2547954d42ab09ed9d222fd10c&show=true', 'number of spectra': 2, 'Data_Collector': 'ReSpect', 'MZErrorPPM': '0.610181', 'INCHI': '1/C5H5N5O/c6-5-9-3-2(4(11)10-5)7-1-8-3/h1H,(H4,6,7,8,9,10,11)/f/h7,9H,6H2', 'GNPSLibraryURL': 'http://gnps.ucsd.edu/ProteoSAFe/gnpslibraryspectrum.jsp?SpectrumID=CCMSLIB00000221887', 'Smiles': 'C1=NC2=C(N1)C(=O)N=C(N2)N'}\n",
      "C=C1C(CC(C1CO)O)N2C=NC3=C2NC(=NC3=O)N C1=NC2=C(N1)C(=O)N=C(N2)N\n",
      "{'precursor mass': 152.0568, 'RTMean': 6.237, 'Instrument': 'HCD', 'DefaultGroups': 'N/A', 'RTConsensus': 6.237, 'Library_Class': '3', 'G5': 0.0, 'G4': 0.0, 'G3': 0.0, 'G2': 0.0, 'G1': 0.0, 'componentindex': '1', 'charge': 0, 'UniqueFileSources': 'N/A', 'sum(precursor intensity)': 29428.8416394, 'PI': 'NIST', 'SpectrumID': 'CCMSLIB00003428804', 'Ion_Source': 'ESI', 'ionization_mode': 'positive', 'MassDiff': '9.15527e-05', 'tags': ' ', 'MQScore': '0.981335', 'AllGroups': 'N/A', 'MZErrorPPM': '0.602096', 'cluster index': 16, 'Compound_Name': 'Entecavir', 'parent mass': 152.0568, 'Compound_Source': 'Isolated', 'Adduct': 'M+H-C7H10O2', 'SharedPeaks': '4', 'G6': 0.0, 'GNPSLinkout_Network': 'https://gnps.ucsd.edu/ProteoSAFe/result.jsp?view=network_displayer&componentindex=1&task=97b337032dfb453b97b0486b32ba9b9b&show=true', 'GNPSLinkout_Cluster': 'https://gnps.ucsd.edu/ProteoSAFe/result.jsp?task=97b337032dfb453b97b0486b32ba9b9b&view=view_all_clusters_withID&show=true#{\"main.cluster index_lowerinput\":\"16\",\"main.cluster index_upperinput\":\"16\"}', 'number of spectra': 2, 'Data_Collector': 'NIST', 'IonMode': 'Positive', 'INCHI': 'InChI=1S/C12H15N5O3/c1-5-6(3-18)8(19)2-7(5)17-4-14-9-10(17)15-12(13)16-11(9)20/h4,6-8,18-19H,1-3H2,(H3,13,15,16,20)/t6-,7-,8-/m0/s1', 'GNPSLibraryURL': 'http://gnps.ucsd.edu/ProteoSAFe/gnpslibraryspectrum.jsp?SpectrumID=CCMSLIB00003428804', 'Smiles': 'C=C1C(CC(C1CO)O)N2C=NC3=C2NC(=NC3=O)N'}\n",
      "C1=NC2=C(N1C3C(C(C(O3)CO)O)O)NC(=NC2=O)N C1=NC2=C(N1C3C(C(C(O3)CO)O)O)NC(=NC2=O)N\n",
      "{'precursor mass': 567.1901, 'RTMean': 7.7959, 'Instrument': 'Q-TOF', 'DefaultGroups': 'N/A', 'RTConsensus': 7.7959, 'Library_Class': '3', 'G5': 0.0, 'G4': 0.0, 'G3': 0.0, 'G2': 0.0, 'G1': 0.0, 'componentindex': '-1', 'charge': 0, 'UniqueFileSources': 'N/A', 'sum(precursor intensity)': 861.404318672, 'PI': 'NIST', 'SpectrumID': 'CCMSLIB00003195177', 'Ion_Source': 'ESI', 'ionization_mode': 'positive', 'MassDiff': '0.000488281', 'tags': ' ', 'MQScore': '0.982859', 'AllGroups': 'N/A', 'MZErrorPPM': '0.860877', 'cluster index': 101, 'Compound_Name': 'Guanosine', 'parent mass': 567.1901, 'Compound_Source': 'Isolated', 'Adduct': '2M+H', 'SharedPeaks': '3', 'G6': 0.0, 'GNPSLinkout_Network': 'This Node is a Singleton', 'GNPSLinkout_Cluster': 'https://gnps.ucsd.edu/ProteoSAFe/result.jsp?task=97b337032dfb453b97b0486b32ba9b9b&view=view_all_clusters_withID&show=true#{\"main.cluster index_lowerinput\":\"101\",\"main.cluster index_upperinput\":\"101\"}', 'number of spectra': 2, 'Data_Collector': 'NIST', 'IonMode': 'Positive', 'INCHI': 'InChI=1S/C10H13N5O5/c11-10-13-7-4(8(19)14-10)12-2-15(7)9-6(18)5(17)3(1-16)20-9/h2-3,5-6,9,16-18H,1H2,(H3,11,13,14,19)/t3-,5-,6-,9-/m1/s1', 'GNPSLibraryURL': 'http://gnps.ucsd.edu/ProteoSAFe/gnpslibraryspectrum.jsp?SpectrumID=CCMSLIB00003195177', 'Smiles': 'C1=NC2=C(N1C3C(C(C(O3)CO)O)O)NC(=NC2=O)N'}\n"
     ]
    }
   ],
   "source": [
    "summary_list = []\n",
    "for edge in all_edges:\n",
    "    #print(edge)\n",
    "    edge_data = edge[2]\n",
    "    node1 = node_dict[edge[0]]\n",
    "    node2 = node_dict[edge[1]]\n",
    "    \n",
    "    if edge_data[\"EdgeType\"] == \"IonMode\":\n",
    "        try:\n",
    "            smiles1 = node1[\"Smiles\"]\n",
    "            smiles2 = node2[\"Smiles\"]\n",
    "            \n",
    "            if len(smiles1) < 5 or len(smiles2) < 5:\n",
    "                continue\n",
    "\n",
    "            print(smiles1, smiles2)\n",
    "            similarity_url = \"https://gnps-structure.ucsd.edu/structuresimilarity\"\n",
    "            r = requests.get(similarity_url, data={\"smiles1\": smiles1, \"smiles2\": smiles2})\n",
    "            \n",
    "            output_dict = {}\n",
    "            output_dict[\"smiles1\"] = smiles1\n",
    "            output_dict[\"smiles2\"] = smiles2\n",
    "            output_dict[\"mz1\"] = node1[\"precursor mass\"]\n",
    "            output_dict[\"mz2\"] = node2[\"precursor mass\"]\n",
    "            output_dict[\"tanimoto\"] = float(r.text)\n",
    "            output_dict[\"rt1\"] = node1[\"RTMean\"]\n",
    "            output_dict[\"rt2\"] = node2[\"RTMean\"]\n",
    "            \n",
    "            summary_list.append(output_dict)\n",
    "            \n",
    "            \n",
    "        except KeyboardInterrupt:\n",
    "            raise\n",
    "        except:\n",
    "            continue\n",
    "            \n",
    "pd.DataFrame(summary_list).to_csv(\"summary.tsv\", sep=\"\\t\", index=False)"
   ]
  },
  {
   "cell_type": "code",
   "execution_count": 15,
   "metadata": {},
   "outputs": [],
   "source": []
  },
  {
   "cell_type": "code",
   "execution_count": 16,
   "metadata": {},
   "outputs": [
    {
     "data": {
      "text/plain": [
       "{'tags': ' ',\n",
       " 'G5': 0.0,\n",
       " 'G3': 0.0,\n",
       " 'MZErrorPPM': '1.57364',\n",
       " 'G4': 0.0,\n",
       " 'charge': 0,\n",
       " 'SharedPeaks': '8',\n",
       " 'PI': 'NIST',\n",
       " 'GNPSLinkout_Network': 'https://gnps.ucsd.edu/ProteoSAFe/result.jsp?view=network_displayer&componentindex=2&task=97b337032dfb453b97b0486b32ba9b9b&show=true',\n",
       " 'RTMean': 2.2576,\n",
       " 'G6': 0.0,\n",
       " 'number of spectra': 2,\n",
       " 'IonMode': 'Positive',\n",
       " 'Compound_Source': 'Isolated',\n",
       " 'Compound_Name': \"2'-Deoxyadenosine\",\n",
       " 'GNPSLinkout_Cluster': 'https://gnps.ucsd.edu/ProteoSAFe/result.jsp?task=97b337032dfb453b97b0486b32ba9b9b&view=view_all_clusters_withID&show=true#{\"main.cluster index_lowerinput\":\"3\",\"main.cluster index_upperinput\":\"3\"}',\n",
       " 'Smiles': 'C1C(C(OC1N2C=NC3=C2N=CN=C3N)CO)O',\n",
       " 'componentindex': '2',\n",
       " 'GNPSLibraryURL': 'http://gnps.ucsd.edu/ProteoSAFe/gnpslibraryspectrum.jsp?SpectrumID=CCMSLIB00003454648',\n",
       " 'RTConsensus': 2.2576,\n",
       " 'SpectrumID': 'CCMSLIB00003454648',\n",
       " 'Adduct': 'M+H',\n",
       " 'INCHI': 'InChI=1S/C10H13N5O3/c11-9-8-10(13-3-12-9)15(4-14-8)7-1-5(17)6(2-16)18-7/h3-7,16-17H,1-2H2,(H2,11,12,13)/t5-,6+,7+/m0/s1',\n",
       " 'MQScore': '0.996208',\n",
       " 'cluster index': 3,\n",
       " 'MassDiff': '0.000396729',\n",
       " 'Ion_Source': 'ESI',\n",
       " 'DefaultGroups': 'N/A',\n",
       " 'precursor mass': 252.1087,\n",
       " 'sum(precursor intensity)': 151314.11787025764,\n",
       " 'parent mass': 252.1087,\n",
       " 'G1': 0.0,\n",
       " 'Data_Collector': 'NIST',\n",
       " 'Instrument': 'HCD',\n",
       " 'G2': 0.0,\n",
       " 'UniqueFileSources': 'N/A',\n",
       " 'Library_Class': '3',\n",
       " 'AllGroups': 'N/A'}"
      ]
     },
     "execution_count": 16,
     "metadata": {},
     "output_type": "execute_result"
    }
   ],
   "source": []
  },
  {
   "cell_type": "code",
   "execution_count": null,
   "metadata": {},
   "outputs": [],
   "source": []
  }
 ],
 "metadata": {
  "kernelspec": {
   "display_name": "Python 3",
   "language": "python",
   "name": "python3"
  },
  "language_info": {
   "codemirror_mode": {
    "name": "ipython",
    "version": 3
   },
   "file_extension": ".py",
   "mimetype": "text/x-python",
   "name": "python",
   "nbconvert_exporter": "python",
   "pygments_lexer": "ipython3",
   "version": "3.7.2"
  }
 },
 "nbformat": 4,
 "nbformat_minor": 4
}
