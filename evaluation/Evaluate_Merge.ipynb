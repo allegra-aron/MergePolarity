{
 "cells": [
  {
   "cell_type": "code",
   "execution_count": 1,
   "metadata": {},
   "outputs": [],
   "source": [
    "import pandas as pd\n",
    "import networkx as nx\n",
    "import requests"
   ]
  },
  {
   "cell_type": "code",
   "execution_count": 2,
   "metadata": {},
   "outputs": [],
   "source": [
    "my_graph = nx.read_graphml(\"alan_darkwebdrugs_merged.graphml\")"
   ]
  },
  {
   "cell_type": "code",
   "execution_count": 3,
   "metadata": {},
   "outputs": [],
   "source": [
    "all_edges = my_graph.edges(data=True)\n",
    "node_dict = {}\n",
    "for node in list(my_graph.nodes(data=True)):\n",
    "    node_dict[node[0]] = node[1]"
   ]
  },
  {
   "cell_type": "code",
   "execution_count": 6,
   "metadata": {},
   "outputs": [
    {
     "name": "stdout",
     "output_type": "stream",
     "text": [
      "C1=CN(C(=O)N=C1N)C2C(C(C(O2)CO)O)O C1=CN(C(=O)N=C1N)C2C(C(C(O2)CO)O)O\n",
      "C1=NC(=O)C2=C(N1)N(C=N2)C3C(C(C(O3)CO)O)O C1=NC2=C(N1)C(=O)N=CN2\n",
      "CCS(=O)(=O)CCO C1=CC=C(C(=C1)C(=O)OC2=CC=CC=C2C(=O)O)O\n",
      "CC(=O)NC(CCCC[NH3+])C(=O)[O-] CC(=O)NC(CCCC[NH3+])C(=O)[O-]\n",
      "C1=CC=C2C(=C1)C(=CN2)CC(C(=O)O)N c1cccc2c1c(c[nH]2)C[C@@H](N)C(=O)O\n",
      "C1=NC(=O)C2=C(N1)N(C=N2)C3C(C(C(O3)CO)O)O C1=NC(=O)C2=C(N1)N(C=N2)C3C(C(C(O3)CO)O)O\n",
      "C1=NC2=C(N1C3C(C(C(O3)CO)O)O)NC(=NC2=O)N C1=NC2=C(N1C3C(C(C(O3)CO)O)O)NC(=NC2=O)N\n",
      "C1C(C(OC1N2C=CC(=NC2=O)N)CO)O C1C(C(OC1N2C=CC(=NC2=O)N)CO)O\n",
      "CC1=NC=C(C(=C1O)COC)CO CC1=NC=C(C(=C1O)COC)CO\n",
      "C1C(C(OC1N2C=NC3=C2NC(=NC3=O)N)CO)O C1=NC2=C(N1)C(=O)N=C(N2)N\n",
      "C1=NC2=C(N1C3C(C(C(O3)CO)O)O)NC(=NC2=O)N C1=NC2=C(N1)C(=O)N=C(N2)N\n",
      "C1=C(NC=N1)C=CC(=O)O C1=C(NC=N1)C=CC(=O)O\n",
      "C1=NC2=C(N1C3C(C(C(O3)CO)O)O)NC(=NC2=O)N C1=NC2=C(N1C3C(C(C(O3)CO)O)O)NC(=NC2=O)N\n"
     ]
    }
   ],
   "source": [
    "summary_list = []\n",
    "for edge in all_edges:\n",
    "    #print(edge)\n",
    "    edge_data = edge[2]\n",
    "    node1 = node_dict[edge[0]]\n",
    "    node2 = node_dict[edge[1]]\n",
    "    \n",
    "    if edge_data[\"EdgeType\"] == \"IonMode\":\n",
    "        try:\n",
    "            smiles1 = node1[\"Smiles\"]\n",
    "            smiles2 = node2[\"Smiles\"]\n",
    "            \n",
    "            if len(smiles1) < 5 or len(smiles2) < 5:\n",
    "                continue\n",
    "\n",
    "            print(smiles1, smiles2)\n",
    "            similarity_url = \"https://gnps-structure.ucsd.edu/structuresimilarity\"\n",
    "            r = requests.get(similarity_url, data={\"smiles1\": smiles1, \"smiles2\": smiles2})\n",
    "            \n",
    "            output_dict = {}\n",
    "            output_dict[\"smiles1\"] = smiles1\n",
    "            output_dict[\"smiles2\"] = smiles2\n",
    "            output_dict[\"mz1\"] = node1[\"precursor mass\"]\n",
    "            output_dict[\"mz2\"] = node2[\"precursor mass\"]\n",
    "            output_dict[\"mzdelta\"] = abs(node1[\"precursor mass\"] - node2[\"precursor mass\"])\n",
    "            output_dict[\"tanimoto\"] = float(r.text)\n",
    "            output_dict[\"rt1\"] = node1[\"RTMean\"]\n",
    "            output_dict[\"rt2\"] = node2[\"RTMean\"]\n",
    "            output_dict[\"rtdelta\"] = abs(node1[\"RTMean\"] - node2[\"RTMean\"])\n",
    "            \n",
    "            summary_list.append(output_dict)\n",
    "            \n",
    "            \n",
    "        except KeyboardInterrupt:\n",
    "            raise\n",
    "        except:\n",
    "            continue\n",
    "            \n",
    "pd.DataFrame(summary_list).to_csv(\"summary.tsv\", sep=\"\\t\", index=False)"
   ]
  },
  {
   "cell_type": "code",
   "execution_count": 15,
   "metadata": {},
   "outputs": [],
   "source": []
  },
  {
   "cell_type": "code",
   "execution_count": 16,
   "metadata": {},
   "outputs": [
    {
     "data": {
      "text/plain": [
       "{'tags': ' ',\n",
       " 'G5': 0.0,\n",
       " 'G3': 0.0,\n",
       " 'MZErrorPPM': '1.57364',\n",
       " 'G4': 0.0,\n",
       " 'charge': 0,\n",
       " 'SharedPeaks': '8',\n",
       " 'PI': 'NIST',\n",
       " 'GNPSLinkout_Network': 'https://gnps.ucsd.edu/ProteoSAFe/result.jsp?view=network_displayer&componentindex=2&task=97b337032dfb453b97b0486b32ba9b9b&show=true',\n",
       " 'RTMean': 2.2576,\n",
       " 'G6': 0.0,\n",
       " 'number of spectra': 2,\n",
       " 'IonMode': 'Positive',\n",
       " 'Compound_Source': 'Isolated',\n",
       " 'Compound_Name': \"2'-Deoxyadenosine\",\n",
       " 'GNPSLinkout_Cluster': 'https://gnps.ucsd.edu/ProteoSAFe/result.jsp?task=97b337032dfb453b97b0486b32ba9b9b&view=view_all_clusters_withID&show=true#{\"main.cluster index_lowerinput\":\"3\",\"main.cluster index_upperinput\":\"3\"}',\n",
       " 'Smiles': 'C1C(C(OC1N2C=NC3=C2N=CN=C3N)CO)O',\n",
       " 'componentindex': '2',\n",
       " 'GNPSLibraryURL': 'http://gnps.ucsd.edu/ProteoSAFe/gnpslibraryspectrum.jsp?SpectrumID=CCMSLIB00003454648',\n",
       " 'RTConsensus': 2.2576,\n",
       " 'SpectrumID': 'CCMSLIB00003454648',\n",
       " 'Adduct': 'M+H',\n",
       " 'INCHI': 'InChI=1S/C10H13N5O3/c11-9-8-10(13-3-12-9)15(4-14-8)7-1-5(17)6(2-16)18-7/h3-7,16-17H,1-2H2,(H2,11,12,13)/t5-,6+,7+/m0/s1',\n",
       " 'MQScore': '0.996208',\n",
       " 'cluster index': 3,\n",
       " 'MassDiff': '0.000396729',\n",
       " 'Ion_Source': 'ESI',\n",
       " 'DefaultGroups': 'N/A',\n",
       " 'precursor mass': 252.1087,\n",
       " 'sum(precursor intensity)': 151314.11787025764,\n",
       " 'parent mass': 252.1087,\n",
       " 'G1': 0.0,\n",
       " 'Data_Collector': 'NIST',\n",
       " 'Instrument': 'HCD',\n",
       " 'G2': 0.0,\n",
       " 'UniqueFileSources': 'N/A',\n",
       " 'Library_Class': '3',\n",
       " 'AllGroups': 'N/A'}"
      ]
     },
     "execution_count": 16,
     "metadata": {},
     "output_type": "execute_result"
    }
   ],
   "source": []
  },
  {
   "cell_type": "code",
   "execution_count": null,
   "metadata": {},
   "outputs": [],
   "source": []
  }
 ],
 "metadata": {
  "kernelspec": {
   "display_name": "Python 3",
   "language": "python",
   "name": "python3"
  },
  "language_info": {
   "codemirror_mode": {
    "name": "ipython",
    "version": 3
   },
   "file_extension": ".py",
   "mimetype": "text/x-python",
   "name": "python",
   "nbconvert_exporter": "python",
   "pygments_lexer": "ipython3",
   "version": "3.7.2"
  }
 },
 "nbformat": 4,
 "nbformat_minor": 4
}
